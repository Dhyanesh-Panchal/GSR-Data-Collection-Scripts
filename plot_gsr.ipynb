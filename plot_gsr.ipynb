{
 "cells": [
  {
   "cell_type": "code",
   "execution_count": 1,
   "metadata": {},
   "outputs": [],
   "source": [
    "from plotly import graph_objects as gobj\n",
    "import serial\n",
    "from time import sleep\n",
    "import pandas as pd"
   ]
  },
  {
   "cell_type": "code",
   "execution_count": 11,
   "metadata": {},
   "outputs": [
    {
     "data": {
      "application/vnd.jupyter.widget-view+json": {
       "model_id": "dd97da3730334285aa7d9e5a1dd46009",
       "version_major": 2,
       "version_minor": 0
      },
      "text/plain": [
       "FigureWidget({\n",
       "    'data': [{'type': 'scatter', 'uid': '6777dd32-fe2f-45a2-9722-35948b28349e'}],\n",
       "    'layout': {'height': 1000,\n",
       "               'template': '...',\n",
       "               'width': 1400,\n",
       "               'xaxis': {'range': [0, 500]},\n",
       "               'yaxis': {'range': [0, 700]}}\n",
       "})"
      ]
     },
     "execution_count": 11,
     "metadata": {},
     "output_type": "execute_result"
    }
   ],
   "source": [
    "\n",
    "# initialize the plot:\n",
    "fig = gobj.FigureWidget()\n",
    "\n",
    "layout = {\n",
    "    \"xaxis\": {\n",
    "        \"range\": [0, 500]\n",
    "    },\n",
    "    \"yaxis\": {\n",
    "        \"range\": [0, 700]\n",
    "    }\n",
    "}\n",
    "fig.update_layout(layout,width=1400, height=1000)\n",
    "fig.add_scatter()"
   ]
  },
  {
   "cell_type": "code",
   "execution_count": 13,
   "metadata": {},
   "outputs": [],
   "source": [
    "data = pd.read_csv('./sample-data.csv')\n",
    "fig\n",
    "for i in range(len(data)-501):\n",
    "    fig.data[0].y = data[i:i+500]['GSR']"
   ]
  },
  {
   "cell_type": "code",
   "execution_count": null,
   "metadata": {},
   "outputs": [],
   "source": []
  }
 ],
 "metadata": {
  "kernelspec": {
   "display_name": "Python 3",
   "language": "python",
   "name": "python3"
  },
  "language_info": {
   "codemirror_mode": {
    "name": "ipython",
    "version": 3
   },
   "file_extension": ".py",
   "mimetype": "text/x-python",
   "name": "python",
   "nbconvert_exporter": "python",
   "pygments_lexer": "ipython3",
   "version": "3.11.2"
  }
 },
 "nbformat": 4,
 "nbformat_minor": 2
}
